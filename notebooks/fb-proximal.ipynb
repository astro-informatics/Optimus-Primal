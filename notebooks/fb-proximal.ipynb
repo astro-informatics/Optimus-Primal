{
  "cells": [
    {
      "cell_type": "markdown",
      "metadata": {
        "collapsed": false
      },
      "source": [
        "<center><img src=\"../docs/assets/animated_logo.png\" align=\"center\" height=\"100\" width=\"100\">\n",
        "\n",
        "# [`Optimus-Primal`](https://github.com/astro-informatics/Optimus-Primal) - __Basic 1D FB__ Interactive Tutorial\n",
        "---\n",
        "\n",
        "In this interactive tutorial we demonstrate basic usage of `optimusprimal` for a 1-dimensional noisy fitting problem."
      ]
    },
    {
      "cell_type": "markdown",
      "metadata": {},
      "source": [
        "How to run a basic 1D unconstrained proximal primal-dual solver. \n",
        "We consider the canonical problem $y = x + n$ where $n \\sim \\mathcal{N}$. \n",
        "This inverse problem can be solved via the unconstrained optimisation \n",
        "\n",
        "$$\n",
        "\\min_x [ ||(x-y)/\\sigma||^2_2 + \\lambda ||\\Psi^{\\dagger} x||_1 ]\n",
        "$$\n",
        "\n",
        "where $x \\in \\mathbb{R}$ is an a priori ground truth 1D signal, $y \\in \\mathbb{R}$ \n",
        "are simulated noisy observations, and $\\lambda$ is the regularisation parameter which acts as \n",
        "a Lagrangian multiplier, balancing between data-fidelity and prior information. Before we begin, we \n",
        "need to import `optimusprimal` and some example specific packages\n"
      ]
    },
    {
      "cell_type": "code",
      "execution_count": 106,
      "metadata": {
        "collapsed": false
      },
      "outputs": [],
      "source": [
        "import matplotlib.pyplot as plt\n",
        "import numpy as np\n",
        "from scipy.stats import norm as normal_dist \n",
        "\n",
        "import optimusprimal.forward_backward as forward_backward\n",
        "import optimusprimal.grad_operators as grad_operators\n",
        "import optimusprimal.linear_operators as linear_operators\n",
        "import optimusprimal.prox_operators as prox_operators"
      ]
    },
    {
      "cell_type": "markdown",
      "metadata": {},
      "source": [
        "First, we need to define some heuristics for the solver, these include:\n",
        "\n",
        "      - tol: convergence criteria for the iterations\n",
        "      - iter: maximum number of iterations\n",
        "      - update_iter: iterations between logging iteration diagnostics\n",
        "      - record_iters: whether to record the full diagnostic information\n",
        "\n"
      ]
    },
    {
      "cell_type": "code",
      "execution_count": 107,
      "metadata": {
        "collapsed": false
      },
      "outputs": [],
      "source": [
        "options = {\"tol\": 1e-5, \"iter\": 5000, \"update_iter\": 10, \"record_iters\": False}"
      ]
    },
    {
      "cell_type": "markdown",
      "metadata": {},
      "source": [
        "Next, we simulate a standard de-noising setting by contaminating a known\n",
        "signal $x$ with some Gaussianly distributed noise. Note that for simplicity the\n",
        "measurement operator here is taken to be the identity operator.\n",
        "\n"
      ]
    },
    {
      "cell_type": "code",
      "execution_count": 108,
      "metadata": {
        "collapsed": false
      },
      "outputs": [],
      "source": [
        "size = 2048                                              # Dimension of the 1D vector\n",
        "ISNR = 20.0                                              # Input signal to noise ratio\n",
        "sigma = 10 ** (-ISNR / 20.0)                             # Noise standard deviation\n",
        "reg_param = 1e-1                                         # Regularisation parameter \n",
        "\n",
        "x = normal_dist(0, 0.5).pdf(np.linspace(-2, 2, size))    # Ground truth signal x\n",
        "y = x + np.random.normal(0, sigma, size)                 # Simulated observations y"
      ]
    },
    {
      "cell_type": "markdown",
      "metadata": {},
      "source": [
        "For the unconstrained problem with Gaussian noise the data-fidelity constraint\n",
        "is given by the gradient of the $\\ell_2$-norm. Here we set up a gradient operator\n",
        "corresponding to a gradient of the $\\ell_2$-norm.\n",
        "\n"
      ]
    },
    {
      "cell_type": "code",
      "execution_count": 109,
      "metadata": {
        "collapsed": false
      },
      "outputs": [],
      "source": [
        "g = grad_operators.l2_norm(sigma, y, linear_operators.identity())\n",
        "g.beta = 1. / sigma**2"
      ]
    },
    {
      "cell_type": "markdown",
      "metadata": {},
      "source": [
        "We regularise this inverse problem by adopting a wavelet sparsity $\\ell_1$-norm prior.\n",
        "To do this we first define what wavelets we wish to use, in this case a\n",
        "combination of Daubechies family wavelets, and which levels to consider.\n",
        "Any combination of wavelet families available by the [`PyWavelet`](https://tinyurl.com/5n7wzpmb) package may be\n",
        "selected.\n",
        "\n"
      ]
    },
    {
      "cell_type": "code",
      "execution_count": 110,
      "metadata": {
        "collapsed": false
      },
      "outputs": [],
      "source": [
        "wav = [\"db1\", \"db4\", \"db6\"]                               # Wavelet dictionaries to combine\n",
        "levels = 6                                                # Wavelet levels to consider [1-6]\n",
        "shape = (size,)                                           # Shape of nd-wavelets\n",
        "psi = linear_operators.dictionary(wav, levels, shape)     # Wavelet linear operator"
      ]
    },
    {
      "cell_type": "markdown",
      "metadata": {},
      "source": [
        "Next we construct the $\\ell_1$-norm proximal operator which we pass the wavelets\n",
        "($\\Psi$) as a dictionary in which to compute the $\\ell_1$-norm.\n",
        "\n"
      ]
    },
    {
      "cell_type": "code",
      "execution_count": 111,
      "metadata": {
        "collapsed": false
      },
      "outputs": [],
      "source": [
        "h = prox_operators.l1_norm(np.max(np.abs(psi.dir_op(y))) * reg_param, psi)\n",
        "h.beta = 1.\n",
        "f = prox_operators.real_prox()"
      ]
    },
    {
      "cell_type": "markdown",
      "metadata": {},
      "source": [
        "Finally we run the optimisation...\n",
        "\n"
      ]
    },
    {
      "cell_type": "code",
      "execution_count": 112,
      "metadata": {
        "collapsed": false
      },
      "outputs": [
        {
          "name": "stdout",
          "output_type": "stream",
          "text": [
            "2022-03-08 16:47:37,249 - Optimus Primal - INFO - Running Base Forward Backward\n",
            "2022-03-08 16:47:37,262 - Optimus Primal - INFO - [Forward Backward] 0 out of 5000 iterations, tol = 0.305357\n",
            "2022-03-08 16:47:37,328 - Optimus Primal - INFO - [Forward Backward] 10 out of 5000 iterations, tol = 0.109128\n",
            "2022-03-08 16:47:37,381 - Optimus Primal - INFO - [Forward Backward] 20 out of 5000 iterations, tol = 0.073595\n",
            "2022-03-08 16:47:37,448 - Optimus Primal - INFO - [Forward Backward] 30 out of 5000 iterations, tol = 0.049439\n",
            "2022-03-08 16:47:37,519 - Optimus Primal - INFO - [Forward Backward] 40 out of 5000 iterations, tol = 0.033118\n",
            "2022-03-08 16:47:37,703 - Optimus Primal - INFO - [Forward Backward] 50 out of 5000 iterations, tol = 0.022142\n",
            "2022-03-08 16:47:37,824 - Optimus Primal - INFO - [Forward Backward] 60 out of 5000 iterations, tol = 0.014785\n",
            "2022-03-08 16:47:37,939 - Optimus Primal - INFO - [Forward Backward] 70 out of 5000 iterations, tol = 0.009865\n",
            "2022-03-08 16:47:38,039 - Optimus Primal - INFO - [Forward Backward] 80 out of 5000 iterations, tol = 0.006579\n",
            "2022-03-08 16:47:38,135 - Optimus Primal - INFO - [Forward Backward] 90 out of 5000 iterations, tol = 0.004386\n",
            "2022-03-08 16:47:38,201 - Optimus Primal - INFO - [Forward Backward] 100 out of 5000 iterations, tol = 0.002924\n",
            "2022-03-08 16:47:38,285 - Optimus Primal - INFO - [Forward Backward] 110 out of 5000 iterations, tol = 0.001949\n",
            "2022-03-08 16:47:38,404 - Optimus Primal - INFO - [Forward Backward] 120 out of 5000 iterations, tol = 0.001299\n",
            "2022-03-08 16:47:38,492 - Optimus Primal - INFO - [Forward Backward] 130 out of 5000 iterations, tol = 0.000866\n",
            "2022-03-08 16:47:38,570 - Optimus Primal - INFO - [Forward Backward] 140 out of 5000 iterations, tol = 0.000577\n",
            "2022-03-08 16:47:38,707 - Optimus Primal - INFO - [Forward Backward] 150 out of 5000 iterations, tol = 0.000385\n",
            "2022-03-08 16:47:38,816 - Optimus Primal - INFO - [Forward Backward] 160 out of 5000 iterations, tol = 0.000256\n",
            "2022-03-08 16:47:38,938 - Optimus Primal - INFO - [Forward Backward] 170 out of 5000 iterations, tol = 0.000171\n",
            "2022-03-08 16:47:39,103 - Optimus Primal - INFO - [Forward Backward] 180 out of 5000 iterations, tol = 0.000114\n",
            "2022-03-08 16:47:39,280 - Optimus Primal - INFO - [Forward Backward] 190 out of 5000 iterations, tol = 0.000076\n",
            "2022-03-08 16:47:39,475 - Optimus Primal - INFO - [Forward Backward] 200 out of 5000 iterations, tol = 0.000051\n",
            "2022-03-08 16:47:39,625 - Optimus Primal - INFO - [Forward Backward] 210 out of 5000 iterations, tol = 0.000034\n",
            "2022-03-08 16:47:39,873 - Optimus Primal - INFO - [Forward Backward] 220 out of 5000 iterations, tol = 0.000023\n",
            "2022-03-08 16:47:40,004 - Optimus Primal - INFO - [Forward Backward] 230 out of 5000 iterations, tol = 0.000015\n",
            "2022-03-08 16:47:40,170 - Optimus Primal - INFO - [Forward Backward] 240 out of 5000 iterations, tol = 0.000010\n",
            "2022-03-08 16:47:40,207 - Optimus Primal - INFO - [Forward Backward] converged in 241 iterations\n"
          ]
        }
      ],
      "source": [
        "alpha = 2 / (g.beta + 2)\n",
        "best_estimate, diagnostics = forward_backward.FB(x_init=y, options=options, g=g, f=f, h=h, alpha=alpha)"
      ]
    },
    {
      "cell_type": "markdown",
      "metadata": {},
      "source": [
        "...and plot the results!\n",
        "\n"
      ]
    },
    {
      "cell_type": "code",
      "execution_count": 113,
      "metadata": {
        "collapsed": false
      },
      "outputs": [
        {
          "data": {
            "image/png": "[encoded data removed]",
            "text/plain": [
              "<Figure size 432x288 with 1 Axes>"
            ]
          },
          "metadata": {
            "needs_background": "light"
          },
          "output_type": "display_data"
        }
      ],
      "source": [
        "def eval_snr(x, x_est):\n",
        "    if np.array_equal(x, x_est):\n",
        "        return 0\n",
        "    num = np.sqrt(np.sum(np.abs(x) ** 2))\n",
        "    den = np.sqrt(np.sum(np.abs(x - x_est) ** 2))\n",
        "    return round(20*np.log10(num/den), 2)\n",
        "\n",
        "SNR_est = eval_snr(x, best_estimate)\n",
        "SNR_data = eval_snr(x, y)\n",
        "\n",
        "plt.plot(np.real(y), \"o\", markersize=1)\n",
        "plt.plot(np.real(x), linewidth=2)\n",
        "plt.plot(np.real(best_estimate), linewidth=2)\n",
        "plt.legend([\"data\", \"true\", \"fit\"])\n",
        "\n",
        "plt.title(\"Data SNR: {}dB, Reconstruction SNR: {}dB\".format(SNR_data, SNR_est), fontsize=16)\n",
        "plt.show()"
      ]
    }
  ],
  "metadata": {
    "kernelspec": {
      "display_name": "Python 3",
      "language": "python",
      "name": "python3"
    },
    "language_info": {
      "codemirror_mode": {
        "name": "ipython",
        "version": 3
      },
      "file_extension": ".py",
      "mimetype": "text/x-python",
      "name": "python",
      "nbconvert_exporter": "python",
      "pygments_lexer": "ipython3",
      "version": "3.8.0"
    }
  },
  "nbformat": 4,
  "nbformat_minor": 0
}
